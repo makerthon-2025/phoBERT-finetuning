{
 "cells": [
  {
   "cell_type": "markdown",
   "id": "61b740b0",
   "metadata": {},
   "source": [
    "# Import thư viện"
   ]
  },
  {
   "cell_type": "markdown",
   "id": "a9c1a4fe",
   "metadata": {},
   "source": [
    "### Nạp thư viện"
   ]
  },
  {
   "cell_type": "code",
   "execution_count": null,
   "id": "4e458725",
   "metadata": {},
   "outputs": [],
   "source": [
    "!python -m pip install --upgrade pip\n",
    "\n",
    "! pip -q install --upgrade pip\n",
    "! pip -q install -r req.txt\n",
    "! pip install -U accelerate\n",
    "! pip install -U transformers"
   ]
  },
  {
   "cell_type": "markdown",
   "id": "906f6fd6",
   "metadata": {},
   "source": [
    "### Import thư viện"
   ]
  },
  {
   "cell_type": "code",
   "execution_count": 91,
   "id": "2feaad50",
   "metadata": {},
   "outputs": [],
   "source": [
    "from transformers import AutoTokenizer, AutoModelForSequenceClassification, Trainer, TrainingArguments\n",
    "from datasets import load_dataset\n",
    "from sklearn.preprocessing import LabelEncoder"
   ]
  },
  {
   "cell_type": "markdown",
   "id": "5fc95d5a",
   "metadata": {},
   "source": [
    "# Tiền xử lí dữ liệu\n",
    "\n"
   ]
  },
  {
   "cell_type": "markdown",
   "id": "1ddd61ad",
   "metadata": {},
   "source": [
    "### Nạp model"
   ]
  },
  {
   "cell_type": "code",
   "execution_count": 125,
   "id": "95bcb510",
   "metadata": {},
   "outputs": [
    {
     "name": "stderr",
     "output_type": "stream",
     "text": [
      "Some weights of RobertaForSequenceClassification were not initialized from the model checkpoint at vinai/phobert-base-v2 and are newly initialized: ['classifier.dense.bias', 'classifier.dense.weight', 'classifier.out_proj.bias', 'classifier.out_proj.weight']\n",
      "You should probably TRAIN this model on a down-stream task to be able to use it for predictions and inference.\n"
     ]
    }
   ],
   "source": [
    "tokenizer = AutoTokenizer.from_pretrained(\"vinai/phobert-base-v2\")\n",
    "model = AutoModelForSequenceClassification.from_pretrained(\"vinai/phobert-base-v2\", num_labels=5)"
   ]
  },
  {
   "cell_type": "markdown",
   "id": "34bb595d",
   "metadata": {},
   "source": [
    "#### lưu model (optional)"
   ]
  },
  {
   "cell_type": "code",
   "execution_count": 101,
   "id": "0e308f64",
   "metadata": {},
   "outputs": [
    {
     "data": {
      "text/plain": [
       "('tokenizer\\\\tokenizer_config.json',\n",
       " 'tokenizer\\\\special_tokens_map.json',\n",
       " 'tokenizer\\\\vocab.txt',\n",
       " 'tokenizer\\\\bpe.codes',\n",
       " 'tokenizer\\\\added_tokens.json')"
      ]
     },
     "execution_count": 101,
     "metadata": {},
     "output_type": "execute_result"
    }
   ],
   "source": [
    "model.save_pretrained(\"model\")\n",
    "tokenizer.save_pretrained(\"tokenizer\")"
   ]
  },
  {
   "cell_type": "markdown",
   "id": "37f1a5f5",
   "metadata": {},
   "source": [
    "### Nạp dataset"
   ]
  },
  {
   "cell_type": "code",
   "execution_count": 131,
   "id": "31afce90",
   "metadata": {},
   "outputs": [
    {
     "name": "stderr",
     "output_type": "stream",
     "text": [
      "Generating train split: 311 examples [00:00, 22273.18 examples/s]\n",
      "Generating test split: 311 examples [00:00, 34917.91 examples/s]\n"
     ]
    },
    {
     "name": "stdout",
     "output_type": "stream",
     "text": [
      "Danh sách nhãn gốc: ['clear_history' 'find_api' 'find_history' 'log_in' 'log_out']\n",
      "Các nhãn đã mã hóa: [2 1 4 3 4 3 1 1 2 3 3 3 3 3 3 3 3 3 3 3 3 3 3 3 3 3 3 3 3 4 4 4 4 4 4 4 4\n",
      " 4 4 4 4 4 4 4 4 4 4 4 4 1 1 1 1 1 1 1 1 1 2 2 2 2 2 2 2 2 2 2 2 2 2 2 2 2\n",
      " 2 2 2 2 0 0 0 0 0 0 0 0 0 0 0 0 0 0 0 0 0 0 0 0 0 0 0 0 0 0 0 0 0 0 0 0 3\n",
      " 2 2 2 2 2 2 2 2 2 2 2 2 2 2 2 2 2 2 2 2 2 2 2 2 2 2 2 2 2 2 2 2 2 2 2 2 2\n",
      " 2 2 2 2 2 2 2 2 2 2 2 2 2 2 2 2 2 2 2 2 2 2 2 2 2 2 2 2 2 2 2 2 2 2 2 2 2\n",
      " 2 2 2 2 2 2 2 2 2 2 2 2 2 2 2 2 2 2 2 2 2 2 2 2 2 2 4 4 4 4 4 4 4 4 4 4 4\n",
      " 4 4 4 4 4 4 4 4 4 4 4 4 4 4 4 4 4 4 4 4 4 4 4 4 4 4 4 4 4 4 4 4 4 4 4 4 4\n",
      " 4 4 4 4 4 4 4 4 4 4 4 4 4 4 4 4 4 4 4 4 4 4 4 4 4 4 4 4 4 4 4 4 4 4 4 4 4\n",
      " 4 4 4 4 4 4 4 4 4 4 4 4 4 4 4]\n"
     ]
    },
    {
     "name": "stderr",
     "output_type": "stream",
     "text": [
      "Map: 100%|██████████| 311/311 [00:00<00:00, 5716.99 examples/s]\n",
      "Map: 100%|██████████| 311/311 [00:00<00:00, 6965.35 examples/s]"
     ]
    },
    {
     "name": "stdout",
     "output_type": "stream",
     "text": [
      "[2, 1, 4, 3, 4, 3, 1, 1, 2, 3, 3, 3, 3, 3, 3, 3, 3, 3, 3, 3, 3, 3, 3, 3, 3, 3, 3, 3, 3, 4, 4, 4, 4, 4, 4, 4, 4, 4, 4, 4, 4, 4, 4, 4, 4, 4, 4, 4, 4, 1, 1, 1, 1, 1, 1, 1, 1, 1, 2, 2, 2, 2, 2, 2, 2, 2, 2, 2, 2, 2, 2, 2, 2, 2, 2, 2, 2, 2, 0, 0, 0, 0, 0, 0, 0, 0, 0, 0, 0, 0, 0, 0, 0, 0, 0, 0, 0, 0, 0, 0, 0, 0, 0, 0, 0, 0, 0, 0, 0, 0, 3, 2, 2, 2, 2, 2, 2, 2, 2, 2, 2, 2, 2, 2, 2, 2, 2, 2, 2, 2, 2, 2, 2, 2, 2, 2, 2, 2, 2, 2, 2, 2, 2, 2, 2, 2, 2, 2, 2, 2, 2, 2, 2, 2, 2, 2, 2, 2, 2, 2, 2, 2, 2, 2, 2, 2, 2, 2, 2, 2, 2, 2, 2, 2, 2, 2, 2, 2, 2, 2, 2, 2, 2, 2, 2, 2, 2, 2, 2, 2, 2, 2, 2, 2, 2, 2, 2, 2, 2, 2, 2, 2, 2, 2, 2, 2, 2, 2, 2, 2, 2, 4, 4, 4, 4, 4, 4, 4, 4, 4, 4, 4, 4, 4, 4, 4, 4, 4, 4, 4, 4, 4, 4, 4, 4, 4, 4, 4, 4, 4, 4, 4, 4, 4, 4, 4, 4, 4, 4, 4, 4, 4, 4, 4, 4, 4, 4, 4, 4, 4, 4, 4, 4, 4, 4, 4, 4, 4, 4, 4, 4, 4, 4, 4, 4, 4, 4, 4, 4, 4, 4, 4, 4, 4, 4, 4, 4, 4, 4, 4, 4, 4, 4, 4, 4, 4, 4, 4, 4, 4, 4, 4, 4, 4, 4, 4, 4, 4, 4, 4, 4]\n"
     ]
    },
    {
     "name": "stderr",
     "output_type": "stream",
     "text": [
      "\n"
     ]
    }
   ],
   "source": [
    "# Tải dữ liệu từ file CSV\n",
    "dataset = load_dataset(\"csv\", data_files={\"train\": \"dataset.csv\", \"test\": \"dataset.csv\"})\n",
    "\n",
    "# Lấy danh sách các nhãn gốc từ cột 'intent'\n",
    "intent_labels = dataset[\"train\"][\"intent\"]  # Cột 'intent' chứa các nhãn gốc\n",
    "\n",
    "# Khởi tạo LabelEncoder để mã hóa nhãn thành chỉ số\n",
    "label_encoder = LabelEncoder()\n",
    "\n",
    "# Mã hóa các nhãn gốc thành các chỉ số\n",
    "label_encoder.fit(intent_labels)  # Fit trên toàn bộ nhãn từ cột 'intent'\n",
    "\n",
    "# In ra các nhãn gốc và các chỉ số đã mã hóa\n",
    "print(\"Danh sách nhãn gốc:\", label_encoder.classes_)  # In mảng nhãn gốc\n",
    "print(\"Các nhãn đã mã hóa:\", label_encoder.transform(intent_labels))  # In nhãn đã mã hóa thành chỉ số\n",
    "\n",
    "# Mã hóa nhãn intent thành chỉ số và tokenize văn bản\n",
    "def encode_labels_and_tokenize(examples):\n",
    "    # Tokenize văn bản\n",
    "    tokenized = tokenizer(examples[\"text\"], padding=\"max_length\", truncation=True, max_length=13)\n",
    "    \n",
    "    # Mã hóa intent thành nhãn (labels) sử dụng LabelEncoder đã được fit\n",
    "    tokenized[\"labels\"] = label_encoder.transform(examples[\"intent\"])  # Mã hóa nhãn thành chỉ số\n",
    "    \n",
    "    return tokenized\n",
    "\n",
    "# Áp dụng mã hóa nhãn và tokenization cho cả train và test dataset\n",
    "train_dataset = dataset[\"train\"].map(encode_labels_and_tokenize, batched=True)\n",
    "test_dataset = dataset[\"test\"].map(encode_labels_and_tokenize, batched=True)\n",
    "\n",
    "# Kiểm tra dữ liệu sau khi mã hóa nhãn và tokenization\n",
    "  \n",
    "print(train_dataset[\"labels\"])  # Hiển thị mẫu đầu tiên trong train dataset"
   ]
  },
  {
   "cell_type": "markdown",
   "id": "f66f390f",
   "metadata": {},
   "source": [
    "# Finetuning"
   ]
  },
  {
   "cell_type": "markdown",
   "id": "76fe24b8",
   "metadata": {},
   "source": [
    "### Cấu hình tham số huấn luyện"
   ]
  },
  {
   "cell_type": "code",
   "execution_count": 132,
   "id": "263d3ddc",
   "metadata": {},
   "outputs": [],
   "source": [
    "training_args = TrainingArguments(\n",
    "    output_dir=\"./results\",\n",
    "    logging_dir='./logs',\n",
    "    learning_rate=3e-5,\n",
    "    per_device_train_batch_size=8,\n",
    "    per_device_eval_batch_size=8,\n",
    "    num_train_epochs=4,\n",
    "    weight_decay=0.01,\n",
    "    logging_steps=10  \n",
    ")\n",
    "\n",
    "trainer = Trainer(\n",
    "    model=model,\n",
    "    args=training_args,\n",
    "    train_dataset=train_dataset,\n",
    ")\n"
   ]
  },
  {
   "cell_type": "markdown",
   "id": "4c8f4636",
   "metadata": {},
   "source": [
    "### Finetuning"
   ]
  },
  {
   "cell_type": "code",
   "execution_count": 133,
   "id": "3dd79c0e",
   "metadata": {},
   "outputs": [
    {
     "name": "stderr",
     "output_type": "stream",
     "text": [
      "c:\\Users\\qscvd\\OneDrive\\Documents\\GitHub\\makerthon\\phoBERT-finetuning\\venv\\Lib\\site-packages\\torch\\utils\\data\\dataloader.py:665: UserWarning: 'pin_memory' argument is set as true but no accelerator is found, then device pinned memory won't be used.\n",
      "  warnings.warn(warn_msg)\n"
     ]
    },
    {
     "data": {
      "text/html": [
       "\n",
       "    <div>\n",
       "      \n",
       "      <progress value='156' max='156' style='width:300px; height:20px; vertical-align: middle;'></progress>\n",
       "      [156/156 03:35, Epoch 4/4]\n",
       "    </div>\n",
       "    <table border=\"1\" class=\"dataframe\">\n",
       "  <thead>\n",
       " <tr style=\"text-align: left;\">\n",
       "      <th>Step</th>\n",
       "      <th>Training Loss</th>\n",
       "    </tr>\n",
       "  </thead>\n",
       "  <tbody>\n",
       "    <tr>\n",
       "      <td>10</td>\n",
       "      <td>1.381500</td>\n",
       "    </tr>\n",
       "    <tr>\n",
       "      <td>20</td>\n",
       "      <td>1.214100</td>\n",
       "    </tr>\n",
       "    <tr>\n",
       "      <td>30</td>\n",
       "      <td>0.840900</td>\n",
       "    </tr>\n",
       "    <tr>\n",
       "      <td>40</td>\n",
       "      <td>0.626600</td>\n",
       "    </tr>\n",
       "    <tr>\n",
       "      <td>50</td>\n",
       "      <td>0.525400</td>\n",
       "    </tr>\n",
       "    <tr>\n",
       "      <td>60</td>\n",
       "      <td>0.431800</td>\n",
       "    </tr>\n",
       "    <tr>\n",
       "      <td>70</td>\n",
       "      <td>0.366000</td>\n",
       "    </tr>\n",
       "    <tr>\n",
       "      <td>80</td>\n",
       "      <td>0.273600</td>\n",
       "    </tr>\n",
       "    <tr>\n",
       "      <td>90</td>\n",
       "      <td>0.239500</td>\n",
       "    </tr>\n",
       "    <tr>\n",
       "      <td>100</td>\n",
       "      <td>0.187900</td>\n",
       "    </tr>\n",
       "    <tr>\n",
       "      <td>110</td>\n",
       "      <td>0.155700</td>\n",
       "    </tr>\n",
       "    <tr>\n",
       "      <td>120</td>\n",
       "      <td>0.154400</td>\n",
       "    </tr>\n",
       "    <tr>\n",
       "      <td>130</td>\n",
       "      <td>0.152500</td>\n",
       "    </tr>\n",
       "    <tr>\n",
       "      <td>140</td>\n",
       "      <td>0.127000</td>\n",
       "    </tr>\n",
       "    <tr>\n",
       "      <td>150</td>\n",
       "      <td>0.133900</td>\n",
       "    </tr>\n",
       "  </tbody>\n",
       "</table><p>"
      ],
      "text/plain": [
       "<IPython.core.display.HTML object>"
      ]
     },
     "metadata": {},
     "output_type": "display_data"
    },
    {
     "data": {
      "text/plain": [
       "TrainOutput(global_step=156, training_loss=0.4410160008149269, metrics={'train_runtime': 217.4125, 'train_samples_per_second': 5.722, 'train_steps_per_second': 0.718, 'total_flos': 8310833202984.0, 'train_loss': 0.4410160008149269, 'epoch': 4.0})"
      ]
     },
     "execution_count": 133,
     "metadata": {},
     "output_type": "execute_result"
    }
   ],
   "source": [
    "trainer.train()"
   ]
  },
  {
   "cell_type": "code",
   "execution_count": 134,
   "id": "aef78078",
   "metadata": {},
   "outputs": [],
   "source": [
    "# Lưu mô hình và tokenizer của PhoBERT\n",
    "tokenizer.save_pretrained(\"./results/final_model\")\n",
    "model.save_pretrained(\"./results/final_model\")"
   ]
  },
  {
   "cell_type": "markdown",
   "id": "930edb78",
   "metadata": {},
   "source": [
    "# Test output"
   ]
  },
  {
   "cell_type": "code",
   "execution_count": 135,
   "id": "a8b6d6a6",
   "metadata": {},
   "outputs": [],
   "source": [
    "tokenizer = AutoTokenizer.from_pretrained(\"./results/final_model\")\n",
    "model = AutoModelForSequenceClassification.from_pretrained(\"./results/final_model\")"
   ]
  },
  {
   "cell_type": "code",
   "execution_count": 142,
   "id": "bd155182",
   "metadata": {},
   "outputs": [
    {
     "name": "stdout",
     "output_type": "stream",
     "text": [
      "Predicted label: 3\n"
     ]
    }
   ],
   "source": [
    "# ['clear_history' 'find_api' 'find_history' 'log_in' 'log_out']\n",
    "\n",
    "import torch\n",
    "\n",
    "# Ví dụ văn bản muốn dự đoán\n",
    "text = \"đăng nhập đi\"\n",
    "\n",
    "# Tokenize văn bản\n",
    "inputs = tokenizer(text, return_tensors=\"pt\", padding=True, truncation=True, max_length=512)\n",
    "\n",
    "# Dự đoán với mô hình\n",
    "with torch.no_grad():\n",
    "    outputs = model(**inputs)\n",
    "\n",
    "# Lấy kết quả dự đoán (logits)\n",
    "logits = outputs.logits\n",
    "\n",
    "# Lấy nhãn dự đoán (với argmax)\n",
    "predicted_label = logits.argmax(dim=-1).item()\n",
    "\n",
    "print(f\"Predicted label: {predicted_label}\")\n"
   ]
  }
 ],
 "metadata": {
  "kernelspec": {
   "display_name": "Python 3",
   "language": "python",
   "name": "python3"
  },
  "language_info": {
   "codemirror_mode": {
    "name": "ipython",
    "version": 3
   },
   "file_extension": ".py",
   "mimetype": "text/x-python",
   "name": "python",
   "nbconvert_exporter": "python",
   "pygments_lexer": "ipython3",
   "version": "3.13.3"
  }
 },
 "nbformat": 4,
 "nbformat_minor": 5
}
