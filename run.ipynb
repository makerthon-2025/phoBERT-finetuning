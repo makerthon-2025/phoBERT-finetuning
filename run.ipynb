{
 "cells": [
  {
   "cell_type": "markdown",
   "id": "61b740b0",
   "metadata": {},
   "source": [
    "# Import thư viện"
   ]
  },
  {
   "cell_type": "markdown",
   "id": "a9c1a4fe",
   "metadata": {},
   "source": [
    "### Nạp thư viện"
   ]
  },
  {
   "cell_type": "code",
   "execution_count": 1,
   "id": "4e458725",
   "metadata": {},
   "outputs": [
    {
     "name": "stdout",
     "output_type": "stream",
     "text": [
      "Requirement already satisfied: pip in d:\\makerthon\\phobert-finetuning\\venv\\lib\\site-packages (24.3.1)\n",
      "Collecting pip\n",
      "  Using cached pip-25.1.1-py3-none-any.whl.metadata (3.6 kB)\n",
      "Using cached pip-25.1.1-py3-none-any.whl (1.8 MB)\n",
      "Installing collected packages: pip\n",
      "  Attempting uninstall: pip\n",
      "    Found existing installation: pip 24.3.1\n",
      "    Uninstalling pip-24.3.1:\n",
      "      Successfully uninstalled pip-24.3.1\n",
      "Successfully installed pip-25.1.1\n",
      "Collecting accelerate\n",
      "  Downloading accelerate-1.7.0-py3-none-any.whl.metadata (19 kB)\n",
      "Requirement already satisfied: numpy<3.0.0,>=1.17 in d:\\makerthon\\phobert-finetuning\\venv\\lib\\site-packages (from accelerate) (2.2.5)\n",
      "Requirement already satisfied: packaging>=20.0 in d:\\makerthon\\phobert-finetuning\\venv\\lib\\site-packages (from accelerate) (25.0)\n",
      "Requirement already satisfied: psutil in d:\\makerthon\\phobert-finetuning\\venv\\lib\\site-packages (from accelerate) (7.0.0)\n",
      "Requirement already satisfied: pyyaml in d:\\makerthon\\phobert-finetuning\\venv\\lib\\site-packages (from accelerate) (6.0.2)\n",
      "Requirement already satisfied: torch>=2.0.0 in d:\\makerthon\\phobert-finetuning\\venv\\lib\\site-packages (from accelerate) (2.7.0)\n",
      "Requirement already satisfied: huggingface-hub>=0.21.0 in d:\\makerthon\\phobert-finetuning\\venv\\lib\\site-packages (from accelerate) (0.31.2)\n",
      "Collecting safetensors>=0.4.3 (from accelerate)\n",
      "  Using cached safetensors-0.5.3-cp38-abi3-win_amd64.whl.metadata (3.9 kB)\n",
      "Requirement already satisfied: filelock in d:\\makerthon\\phobert-finetuning\\venv\\lib\\site-packages (from huggingface-hub>=0.21.0->accelerate) (3.18.0)\n",
      "Requirement already satisfied: fsspec>=2023.5.0 in d:\\makerthon\\phobert-finetuning\\venv\\lib\\site-packages (from huggingface-hub>=0.21.0->accelerate) (2025.3.0)\n",
      "Requirement already satisfied: requests in d:\\makerthon\\phobert-finetuning\\venv\\lib\\site-packages (from huggingface-hub>=0.21.0->accelerate) (2.32.3)\n",
      "Requirement already satisfied: tqdm>=4.42.1 in d:\\makerthon\\phobert-finetuning\\venv\\lib\\site-packages (from huggingface-hub>=0.21.0->accelerate) (4.67.1)\n",
      "Requirement already satisfied: typing-extensions>=3.7.4.3 in d:\\makerthon\\phobert-finetuning\\venv\\lib\\site-packages (from huggingface-hub>=0.21.0->accelerate) (4.13.2)\n",
      "Requirement already satisfied: sympy>=1.13.3 in d:\\makerthon\\phobert-finetuning\\venv\\lib\\site-packages (from torch>=2.0.0->accelerate) (1.14.0)\n",
      "Requirement already satisfied: networkx in d:\\makerthon\\phobert-finetuning\\venv\\lib\\site-packages (from torch>=2.0.0->accelerate) (3.4.2)\n",
      "Requirement already satisfied: jinja2 in d:\\makerthon\\phobert-finetuning\\venv\\lib\\site-packages (from torch>=2.0.0->accelerate) (3.1.6)\n",
      "Requirement already satisfied: setuptools in d:\\makerthon\\phobert-finetuning\\venv\\lib\\site-packages (from torch>=2.0.0->accelerate) (80.7.1)\n",
      "Requirement already satisfied: mpmath<1.4,>=1.1.0 in d:\\makerthon\\phobert-finetuning\\venv\\lib\\site-packages (from sympy>=1.13.3->torch>=2.0.0->accelerate) (1.3.0)\n",
      "Requirement already satisfied: colorama in d:\\makerthon\\phobert-finetuning\\venv\\lib\\site-packages (from tqdm>=4.42.1->huggingface-hub>=0.21.0->accelerate) (0.4.6)\n",
      "Requirement already satisfied: MarkupSafe>=2.0 in d:\\makerthon\\phobert-finetuning\\venv\\lib\\site-packages (from jinja2->torch>=2.0.0->accelerate) (3.0.2)\n",
      "Requirement already satisfied: charset-normalizer<4,>=2 in d:\\makerthon\\phobert-finetuning\\venv\\lib\\site-packages (from requests->huggingface-hub>=0.21.0->accelerate) (3.4.2)\n",
      "Requirement already satisfied: idna<4,>=2.5 in d:\\makerthon\\phobert-finetuning\\venv\\lib\\site-packages (from requests->huggingface-hub>=0.21.0->accelerate) (3.10)\n",
      "Requirement already satisfied: urllib3<3,>=1.21.1 in d:\\makerthon\\phobert-finetuning\\venv\\lib\\site-packages (from requests->huggingface-hub>=0.21.0->accelerate) (2.4.0)\n",
      "Requirement already satisfied: certifi>=2017.4.17 in d:\\makerthon\\phobert-finetuning\\venv\\lib\\site-packages (from requests->huggingface-hub>=0.21.0->accelerate) (2025.4.26)\n",
      "Downloading accelerate-1.7.0-py3-none-any.whl (362 kB)\n",
      "Using cached safetensors-0.5.3-cp38-abi3-win_amd64.whl (308 kB)\n",
      "Installing collected packages: safetensors, accelerate\n",
      "\n",
      "   -------------------- ------------------- 1/2 [accelerate]\n",
      "   -------------------- ------------------- 1/2 [accelerate]\n",
      "   -------------------- ------------------- 1/2 [accelerate]\n",
      "   -------------------- ------------------- 1/2 [accelerate]\n",
      "   -------------------- ------------------- 1/2 [accelerate]\n",
      "   -------------------- ------------------- 1/2 [accelerate]\n",
      "   -------------------- ------------------- 1/2 [accelerate]\n",
      "   -------------------- ------------------- 1/2 [accelerate]\n",
      "   -------------------- ------------------- 1/2 [accelerate]\n",
      "   -------------------- ------------------- 1/2 [accelerate]\n",
      "   ---------------------------------------- 2/2 [accelerate]\n",
      "\n",
      "Successfully installed accelerate-1.7.0 safetensors-0.5.3\n",
      "Collecting transformers\n",
      "  Using cached transformers-4.51.3-py3-none-any.whl.metadata (38 kB)\n",
      "Requirement already satisfied: filelock in d:\\makerthon\\phobert-finetuning\\venv\\lib\\site-packages (from transformers) (3.18.0)\n",
      "Requirement already satisfied: huggingface-hub<1.0,>=0.30.0 in d:\\makerthon\\phobert-finetuning\\venv\\lib\\site-packages (from transformers) (0.31.2)\n",
      "Requirement already satisfied: numpy>=1.17 in d:\\makerthon\\phobert-finetuning\\venv\\lib\\site-packages (from transformers) (2.2.5)\n",
      "Requirement already satisfied: packaging>=20.0 in d:\\makerthon\\phobert-finetuning\\venv\\lib\\site-packages (from transformers) (25.0)\n",
      "Requirement already satisfied: pyyaml>=5.1 in d:\\makerthon\\phobert-finetuning\\venv\\lib\\site-packages (from transformers) (6.0.2)\n",
      "Collecting regex!=2019.12.17 (from transformers)\n",
      "  Using cached regex-2024.11.6-cp313-cp313-win_amd64.whl.metadata (41 kB)\n",
      "Requirement already satisfied: requests in d:\\makerthon\\phobert-finetuning\\venv\\lib\\site-packages (from transformers) (2.32.3)\n",
      "Collecting tokenizers<0.22,>=0.21 (from transformers)\n",
      "  Using cached tokenizers-0.21.1-cp39-abi3-win_amd64.whl.metadata (6.9 kB)\n",
      "Requirement already satisfied: safetensors>=0.4.3 in d:\\makerthon\\phobert-finetuning\\venv\\lib\\site-packages (from transformers) (0.5.3)\n",
      "Requirement already satisfied: tqdm>=4.27 in d:\\makerthon\\phobert-finetuning\\venv\\lib\\site-packages (from transformers) (4.67.1)\n",
      "Requirement already satisfied: fsspec>=2023.5.0 in d:\\makerthon\\phobert-finetuning\\venv\\lib\\site-packages (from huggingface-hub<1.0,>=0.30.0->transformers) (2025.3.0)\n",
      "Requirement already satisfied: typing-extensions>=3.7.4.3 in d:\\makerthon\\phobert-finetuning\\venv\\lib\\site-packages (from huggingface-hub<1.0,>=0.30.0->transformers) (4.13.2)\n",
      "Requirement already satisfied: colorama in d:\\makerthon\\phobert-finetuning\\venv\\lib\\site-packages (from tqdm>=4.27->transformers) (0.4.6)\n",
      "Requirement already satisfied: charset-normalizer<4,>=2 in d:\\makerthon\\phobert-finetuning\\venv\\lib\\site-packages (from requests->transformers) (3.4.2)\n",
      "Requirement already satisfied: idna<4,>=2.5 in d:\\makerthon\\phobert-finetuning\\venv\\lib\\site-packages (from requests->transformers) (3.10)\n",
      "Requirement already satisfied: urllib3<3,>=1.21.1 in d:\\makerthon\\phobert-finetuning\\venv\\lib\\site-packages (from requests->transformers) (2.4.0)\n",
      "Requirement already satisfied: certifi>=2017.4.17 in d:\\makerthon\\phobert-finetuning\\venv\\lib\\site-packages (from requests->transformers) (2025.4.26)\n",
      "Using cached transformers-4.51.3-py3-none-any.whl (10.4 MB)\n",
      "Using cached tokenizers-0.21.1-cp39-abi3-win_amd64.whl (2.4 MB)\n",
      "Using cached regex-2024.11.6-cp313-cp313-win_amd64.whl (273 kB)\n",
      "Installing collected packages: regex, tokenizers, transformers\n",
      "\n",
      "   ------------- -------------------------- 1/3 [tokenizers]\n",
      "   ------------- -------------------------- 1/3 [tokenizers]\n",
      "   -------------------------- ------------- 2/3 [transformers]\n",
      "   -------------------------- ------------- 2/3 [transformers]\n",
      "   -------------------------- ------------- 2/3 [transformers]\n",
      "   -------------------------- ------------- 2/3 [transformers]\n",
      "   -------------------------- ------------- 2/3 [transformers]\n",
      "   -------------------------- ------------- 2/3 [transformers]\n",
      "   -------------------------- ------------- 2/3 [transformers]\n",
      "   -------------------------- ------------- 2/3 [transformers]\n",
      "   -------------------------- ------------- 2/3 [transformers]\n",
      "   -------------------------- ------------- 2/3 [transformers]\n",
      "   -------------------------- ------------- 2/3 [transformers]\n",
      "   -------------------------- ------------- 2/3 [transformers]\n",
      "   -------------------------- ------------- 2/3 [transformers]\n",
      "   -------------------------- ------------- 2/3 [transformers]\n",
      "   -------------------------- ------------- 2/3 [transformers]\n",
      "   -------------------------- ------------- 2/3 [transformers]\n",
      "   -------------------------- ------------- 2/3 [transformers]\n",
      "   -------------------------- ------------- 2/3 [transformers]\n",
      "   -------------------------- ------------- 2/3 [transformers]\n",
      "   -------------------------- ------------- 2/3 [transformers]\n",
      "   -------------------------- ------------- 2/3 [transformers]\n",
      "   -------------------------- ------------- 2/3 [transformers]\n",
      "   -------------------------- ------------- 2/3 [transformers]\n",
      "   -------------------------- ------------- 2/3 [transformers]\n",
      "   -------------------------- ------------- 2/3 [transformers]\n",
      "   -------------------------- ------------- 2/3 [transformers]\n",
      "   -------------------------- ------------- 2/3 [transformers]\n",
      "   -------------------------- ------------- 2/3 [transformers]\n",
      "   -------------------------- ------------- 2/3 [transformers]\n",
      "   -------------------------- ------------- 2/3 [transformers]\n",
      "   -------------------------- ------------- 2/3 [transformers]\n",
      "   -------------------------- ------------- 2/3 [transformers]\n",
      "   -------------------------- ------------- 2/3 [transformers]\n",
      "   -------------------------- ------------- 2/3 [transformers]\n",
      "   -------------------------- ------------- 2/3 [transformers]\n",
      "   -------------------------- ------------- 2/3 [transformers]\n",
      "   -------------------------- ------------- 2/3 [transformers]\n",
      "   -------------------------- ------------- 2/3 [transformers]\n",
      "   -------------------------- ------------- 2/3 [transformers]\n",
      "   -------------------------- ------------- 2/3 [transformers]\n",
      "   -------------------------- ------------- 2/3 [transformers]\n",
      "   -------------------------- ------------- 2/3 [transformers]\n",
      "   -------------------------- ------------- 2/3 [transformers]\n",
      "   -------------------------- ------------- 2/3 [transformers]\n",
      "   -------------------------- ------------- 2/3 [transformers]\n",
      "   -------------------------- ------------- 2/3 [transformers]\n",
      "   -------------------------- ------------- 2/3 [transformers]\n",
      "   -------------------------- ------------- 2/3 [transformers]\n",
      "   -------------------------- ------------- 2/3 [transformers]\n",
      "   -------------------------- ------------- 2/3 [transformers]\n",
      "   -------------------------- ------------- 2/3 [transformers]\n",
      "   -------------------------- ------------- 2/3 [transformers]\n",
      "   -------------------------- ------------- 2/3 [transformers]\n",
      "   -------------------------- ------------- 2/3 [transformers]\n",
      "   -------------------------- ------------- 2/3 [transformers]\n",
      "   -------------------------- ------------- 2/3 [transformers]\n",
      "   -------------------------- ------------- 2/3 [transformers]\n",
      "   -------------------------- ------------- 2/3 [transformers]\n",
      "   -------------------------- ------------- 2/3 [transformers]\n",
      "   -------------------------- ------------- 2/3 [transformers]\n",
      "   -------------------------- ------------- 2/3 [transformers]\n",
      "   -------------------------- ------------- 2/3 [transformers]\n",
      "   -------------------------- ------------- 2/3 [transformers]\n",
      "   -------------------------- ------------- 2/3 [transformers]\n",
      "   -------------------------- ------------- 2/3 [transformers]\n",
      "   -------------------------- ------------- 2/3 [transformers]\n",
      "   -------------------------- ------------- 2/3 [transformers]\n",
      "   -------------------------- ------------- 2/3 [transformers]\n",
      "   -------------------------- ------------- 2/3 [transformers]\n",
      "   -------------------------- ------------- 2/3 [transformers]\n",
      "   -------------------------- ------------- 2/3 [transformers]\n",
      "   -------------------------- ------------- 2/3 [transformers]\n",
      "   -------------------------- ------------- 2/3 [transformers]\n",
      "   -------------------------- ------------- 2/3 [transformers]\n",
      "   -------------------------- ------------- 2/3 [transformers]\n",
      "   -------------------------- ------------- 2/3 [transformers]\n",
      "   -------------------------- ------------- 2/3 [transformers]\n",
      "   -------------------------- ------------- 2/3 [transformers]\n",
      "   -------------------------- ------------- 2/3 [transformers]\n",
      "   -------------------------- ------------- 2/3 [transformers]\n",
      "   -------------------------- ------------- 2/3 [transformers]\n",
      "   -------------------------- ------------- 2/3 [transformers]\n",
      "   -------------------------- ------------- 2/3 [transformers]\n",
      "   -------------------------- ------------- 2/3 [transformers]\n",
      "   -------------------------- ------------- 2/3 [transformers]\n",
      "   -------------------------- ------------- 2/3 [transformers]\n",
      "   -------------------------- ------------- 2/3 [transformers]\n",
      "   -------------------------- ------------- 2/3 [transformers]\n",
      "   -------------------------- ------------- 2/3 [transformers]\n",
      "   -------------------------- ------------- 2/3 [transformers]\n",
      "   -------------------------- ------------- 2/3 [transformers]\n",
      "   -------------------------- ------------- 2/3 [transformers]\n",
      "   -------------------------- ------------- 2/3 [transformers]\n",
      "   -------------------------- ------------- 2/3 [transformers]\n",
      "   -------------------------- ------------- 2/3 [transformers]\n",
      "   -------------------------- ------------- 2/3 [transformers]\n",
      "   -------------------------- ------------- 2/3 [transformers]\n",
      "   -------------------------- ------------- 2/3 [transformers]\n",
      "   -------------------------- ------------- 2/3 [transformers]\n",
      "   -------------------------- ------------- 2/3 [transformers]\n",
      "   -------------------------- ------------- 2/3 [transformers]\n",
      "   -------------------------- ------------- 2/3 [transformers]\n",
      "   -------------------------- ------------- 2/3 [transformers]\n",
      "   -------------------------- ------------- 2/3 [transformers]\n",
      "   -------------------------- ------------- 2/3 [transformers]\n",
      "   -------------------------- ------------- 2/3 [transformers]\n",
      "   -------------------------- ------------- 2/3 [transformers]\n",
      "   -------------------------- ------------- 2/3 [transformers]\n",
      "   -------------------------- ------------- 2/3 [transformers]\n",
      "   -------------------------- ------------- 2/3 [transformers]\n",
      "   -------------------------- ------------- 2/3 [transformers]\n",
      "   -------------------------- ------------- 2/3 [transformers]\n",
      "   -------------------------- ------------- 2/3 [transformers]\n",
      "   -------------------------- ------------- 2/3 [transformers]\n",
      "   -------------------------- ------------- 2/3 [transformers]\n",
      "   -------------------------- ------------- 2/3 [transformers]\n",
      "   -------------------------- ------------- 2/3 [transformers]\n",
      "   -------------------------- ------------- 2/3 [transformers]\n",
      "   -------------------------- ------------- 2/3 [transformers]\n",
      "   -------------------------- ------------- 2/3 [transformers]\n",
      "   -------------------------- ------------- 2/3 [transformers]\n",
      "   -------------------------- ------------- 2/3 [transformers]\n",
      "   -------------------------- ------------- 2/3 [transformers]\n",
      "   -------------------------- ------------- 2/3 [transformers]\n",
      "   -------------------------- ------------- 2/3 [transformers]\n",
      "   -------------------------- ------------- 2/3 [transformers]\n",
      "   -------------------------- ------------- 2/3 [transformers]\n",
      "   -------------------------- ------------- 2/3 [transformers]\n",
      "   -------------------------- ------------- 2/3 [transformers]\n",
      "   -------------------------- ------------- 2/3 [transformers]\n",
      "   -------------------------- ------------- 2/3 [transformers]\n",
      "   -------------------------- ------------- 2/3 [transformers]\n",
      "   -------------------------- ------------- 2/3 [transformers]\n",
      "   -------------------------- ------------- 2/3 [transformers]\n",
      "   -------------------------- ------------- 2/3 [transformers]\n",
      "   -------------------------- ------------- 2/3 [transformers]\n",
      "   -------------------------- ------------- 2/3 [transformers]\n",
      "   -------------------------- ------------- 2/3 [transformers]\n",
      "   -------------------------- ------------- 2/3 [transformers]\n",
      "   -------------------------- ------------- 2/3 [transformers]\n",
      "   -------------------------- ------------- 2/3 [transformers]\n",
      "   -------------------------- ------------- 2/3 [transformers]\n",
      "   -------------------------- ------------- 2/3 [transformers]\n",
      "   -------------------------- ------------- 2/3 [transformers]\n",
      "   -------------------------- ------------- 2/3 [transformers]\n",
      "   -------------------------- ------------- 2/3 [transformers]\n",
      "   -------------------------- ------------- 2/3 [transformers]\n",
      "   -------------------------- ------------- 2/3 [transformers]\n",
      "   -------------------------- ------------- 2/3 [transformers]\n",
      "   -------------------------- ------------- 2/3 [transformers]\n",
      "   -------------------------- ------------- 2/3 [transformers]\n",
      "   -------------------------- ------------- 2/3 [transformers]\n",
      "   -------------------------- ------------- 2/3 [transformers]\n",
      "   -------------------------- ------------- 2/3 [transformers]\n",
      "   -------------------------- ------------- 2/3 [transformers]\n",
      "   -------------------------- ------------- 2/3 [transformers]\n",
      "   -------------------------- ------------- 2/3 [transformers]\n",
      "   -------------------------- ------------- 2/3 [transformers]\n",
      "   -------------------------- ------------- 2/3 [transformers]\n",
      "   -------------------------- ------------- 2/3 [transformers]\n",
      "   -------------------------- ------------- 2/3 [transformers]\n",
      "   -------------------------- ------------- 2/3 [transformers]\n",
      "   ---------------------------------------- 3/3 [transformers]\n",
      "\n",
      "Successfully installed regex-2024.11.6 tokenizers-0.21.1 transformers-4.51.3\n"
     ]
    }
   ],
   "source": [
    "!python -m pip install --upgrade pip\n",
    "\n",
    "! pip -q install --upgrade pip\n",
    "! pip -q install -r req.txt\n",
    "! pip install -U accelerate\n",
    "! pip install -U transformers"
   ]
  },
  {
   "cell_type": "markdown",
   "id": "906f6fd6",
   "metadata": {},
   "source": [
    "### Import thư viện"
   ]
  },
  {
   "cell_type": "code",
   "execution_count": 2,
   "id": "2feaad50",
   "metadata": {},
   "outputs": [
    {
     "name": "stderr",
     "output_type": "stream",
     "text": [
      "d:\\makerthon\\phoBERT-finetuning\\venv\\Lib\\site-packages\\tqdm\\auto.py:21: TqdmWarning: IProgress not found. Please update jupyter and ipywidgets. See https://ipywidgets.readthedocs.io/en/stable/user_install.html\n",
      "  from .autonotebook import tqdm as notebook_tqdm\n"
     ]
    }
   ],
   "source": [
    "from transformers import AutoTokenizer, AutoModelForSequenceClassification, Trainer, TrainingArguments\n",
    "from datasets import load_dataset\n",
    "from sklearn.preprocessing import LabelEncoder"
   ]
  },
  {
   "cell_type": "markdown",
   "id": "5fc95d5a",
   "metadata": {},
   "source": [
    "# Tiền xử lí dữ liệu\n",
    "\n"
   ]
  },
  {
   "cell_type": "markdown",
   "id": "1ddd61ad",
   "metadata": {},
   "source": [
    "### Nạp model"
   ]
  },
  {
   "cell_type": "code",
   "execution_count": 10,
   "id": "95bcb510",
   "metadata": {},
   "outputs": [
    {
     "name": "stderr",
     "output_type": "stream",
     "text": [
      "Some weights of RobertaForSequenceClassification were not initialized from the model checkpoint at vinai/phobert-base-v2 and are newly initialized: ['classifier.dense.bias', 'classifier.dense.weight', 'classifier.out_proj.bias', 'classifier.out_proj.weight']\n",
      "You should probably TRAIN this model on a down-stream task to be able to use it for predictions and inference.\n"
     ]
    }
   ],
   "source": [
    "tokenizer = AutoTokenizer.from_pretrained(\"vinai/phobert-base-v2\")\n",
    "model = AutoModelForSequenceClassification.from_pretrained(\"vinai/phobert-base-v2\", num_labels=93)"
   ]
  },
  {
   "cell_type": "markdown",
   "id": "34bb595d",
   "metadata": {},
   "source": [
    "#### lưu model (optional)"
   ]
  },
  {
   "cell_type": "code",
   "execution_count": 11,
   "id": "0e308f64",
   "metadata": {},
   "outputs": [
    {
     "data": {
      "text/plain": [
       "('tokenizer\\\\tokenizer_config.json',\n",
       " 'tokenizer\\\\special_tokens_map.json',\n",
       " 'tokenizer\\\\vocab.txt',\n",
       " 'tokenizer\\\\bpe.codes',\n",
       " 'tokenizer\\\\added_tokens.json')"
      ]
     },
     "execution_count": 11,
     "metadata": {},
     "output_type": "execute_result"
    }
   ],
   "source": [
    "model.save_pretrained(\"model\")\n",
    "tokenizer.save_pretrained(\"tokenizer\")"
   ]
  },
  {
   "cell_type": "markdown",
   "id": "37f1a5f5",
   "metadata": {},
   "source": [
    "### Nạp dataset"
   ]
  },
  {
   "cell_type": "code",
   "execution_count": 12,
   "id": "31afce90",
   "metadata": {},
   "outputs": [
    {
     "name": "stdout",
     "output_type": "stream",
     "text": [
      "Danh sách nhãn gốc: ['AI & Internet' 'An ninh mạng' 'An sinh' 'Bóng đá' 'Bất động sản'\n",
      " 'Chuyện của tôi' 'Chuyện nghề' 'Chính sách' 'Chính trị' 'Chợ online'\n",
      " 'Chứng khoán' 'Công nghệ' 'Công sở' 'Cộng đồng' 'Cộng đồng xe'\n",
      " 'Doanh nghiệp' 'Du học' 'Du lịch' 'Dự án' 'Gia dụng thông minh'\n",
      " 'Gia đình' 'Giao thông' 'Giáo dục' 'Giáo dục - Nghề nghiệp' 'Giải trí'\n",
      " 'Giới trẻ' 'Góc phụ huynh' 'Gương sáng' 'Hậu trường' 'Học tập Bác'\n",
      " 'Hồ sơ vụ án' 'Khoa học' 'Khoa học & đời sống' 'Khuyến học' 'Khám phá'\n",
      " 'Khỏe đẹp' 'Khởi nghiệp' 'Kinh doanh' 'Kinh nghiệm - Tư vấn'\n",
      " 'Kiến thức giới tính' 'Kiều bào' 'Kỷ nguyên mới' 'Làm giàu'\n",
      " 'Món ngon - Điểm đẹp' 'Môi trường' 'Mỹ thuật - Sân khấu'\n",
      " 'Ngoại thần kinh - Cột sống' 'Nhà đất' 'Nhân lực mới' 'Nhịp sống đô thị'\n",
      " 'Nóng trên mạng' 'Nội thất' 'Nội vụ' 'Pháp đình' 'Phân tích - Bình luận'\n",
      " 'Pickleball' 'Quân sự' 'Sách hay' 'Sản phẩm & Cộng đồng' 'Sống khỏe'\n",
      " 'Sống xanh' 'Sức khỏe' 'Tennis' 'Thượng lưu' 'Thế giới'\n",
      " 'Thế giới tự nhiên' 'Thế giới đó đây' 'Thể thao' 'Thị trường'\n",
      " 'Thị trường xe' 'Thời trang' 'Tin tức' 'Tiêu dùng' 'Tiền lương'\n",
      " 'Tour hay - Khuyến mại' 'Tuyển sinh' 'Tài chính' 'Tình yêu' 'Tư vấn'\n",
      " 'Tổ chức bộ máy' 'Ung thư' 'Video - Ảnh' 'Việc làm'\n",
      " 'Võ thuật - Các môn khác' 'Vũ trụ' 'Vượt lên số phận' 'Xe ++' 'Xe điện'\n",
      " 'Xã hội' 'Âm nhạc' 'Điện ảnh' 'Đánh giá' 'Đời sống']\n",
      "Các nhãn đã mã hóa: [ 0  0  0  0  0  0  0  0 89 89 89 89  1  1  1  1  2  2  2  2  4  4  4  4\n",
      "  3  3  3  3  7  7  7  7  8  8  8  8  9  9  9  9 10 10 10 10  5  5  5  5\n",
      "  6  6  6  6 14 14 14 14 13 13 13 13 11 11 11 11 12 12 12 12 91 91 91 91\n",
      " 90 90 90 90 15 15 15 15 92 92 92 92 18 18 18 18 16 16 16 16 17 17 17 17\n",
      " 20 20 20 20 19 19 19 19 24 24 24 24 23 23 23 23 22 22 22 22 21 21 21 21\n",
      " 25 25 25 25 26 26 26 26 27 27 27 27 28 28 28 28 30 30 30 30 29 29 29 29\n",
      " 34 34 34 34 32 32 32 32 31 31 31 31 35 35 35 35 36 36 36 36 33 33 33 33\n",
      " 39 39 39 39 40 40 40 40 37 37 37 37 38 38 38 38 41 41 41 41 42 42 42 42\n",
      " 44 44 44 44 43 43 43 43 45 45 45 45 46 46 46 46 47 47 47 47 48 48 48 48\n",
      " 49 49 49 49 51 51 51 51 52 52 52 52 50 50 50 50 54 54 54 54 53 53 53 53\n",
      " 55 55 55 55 56 56 56 56 57 57 57 57 58 58 58 58 59 59 59 59 60 60 60 60\n",
      " 61 61 61 61 76 76 76 76 62 62 62 62 66 66 66 66 65 65 65 65 64 64 64 64\n",
      " 67 67 67 67 69 69 69 69 68 68 68 68 70 70 70 70 63 63 63 63 73 73 73 73\n",
      " 72 72 72 72 71 71 71 71 77 77 77 77 79 79 79 79 74 74 74 74 78 78 78 78\n",
      " 75 75 75 75 80 80 80 80 81 81 81 81 82 82 82 82 83 83 83 83 84 84 84 84\n",
      " 85 85 85 85 88 88 88 88 86 86 86 86 87 87 87 87  0  0  0  0  0  0  0  0\n",
      "  0  0  0  0  0  0  0 89 89 89 89 89 89 89 89 89  1  1  1  1  1  1  1  1\n",
      "  1  4  4  4  4  4  4  4  4  4  3  3  3  3  3  3  3  3  3 11 11 11 11 11\n",
      " 11 11 11 11 76 76 76 76 76 76 76 76 76]\n",
      "[0, 0, 0, 0, 0, 0, 0, 0, 89, 89, 89, 89, 1, 1, 1, 1, 2, 2, 2, 2, 4, 4, 4, 4, 3, 3, 3, 3, 7, 7, 7, 7, 8, 8, 8, 8, 9, 9, 9, 9, 10, 10, 10, 10, 5, 5, 5, 5, 6, 6, 6, 6, 14, 14, 14, 14, 13, 13, 13, 13, 11, 11, 11, 11, 12, 12, 12, 12, 91, 91, 91, 91, 90, 90, 90, 90, 15, 15, 15, 15, 92, 92, 92, 92, 18, 18, 18, 18, 16, 16, 16, 16, 17, 17, 17, 17, 20, 20, 20, 20, 19, 19, 19, 19, 24, 24, 24, 24, 23, 23, 23, 23, 22, 22, 22, 22, 21, 21, 21, 21, 25, 25, 25, 25, 26, 26, 26, 26, 27, 27, 27, 27, 28, 28, 28, 28, 30, 30, 30, 30, 29, 29, 29, 29, 34, 34, 34, 34, 32, 32, 32, 32, 31, 31, 31, 31, 35, 35, 35, 35, 36, 36, 36, 36, 33, 33, 33, 33, 39, 39, 39, 39, 40, 40, 40, 40, 37, 37, 37, 37, 38, 38, 38, 38, 41, 41, 41, 41, 42, 42, 42, 42, 44, 44, 44, 44, 43, 43, 43, 43, 45, 45, 45, 45, 46, 46, 46, 46, 47, 47, 47, 47, 48, 48, 48, 48, 49, 49, 49, 49, 51, 51, 51, 51, 52, 52, 52, 52, 50, 50, 50, 50, 54, 54, 54, 54, 53, 53, 53, 53, 55, 55, 55, 55, 56, 56, 56, 56, 57, 57, 57, 57, 58, 58, 58, 58, 59, 59, 59, 59, 60, 60, 60, 60, 61, 61, 61, 61, 76, 76, 76, 76, 62, 62, 62, 62, 66, 66, 66, 66, 65, 65, 65, 65, 64, 64, 64, 64, 67, 67, 67, 67, 69, 69, 69, 69, 68, 68, 68, 68, 70, 70, 70, 70, 63, 63, 63, 63, 73, 73, 73, 73, 72, 72, 72, 72, 71, 71, 71, 71, 77, 77, 77, 77, 79, 79, 79, 79, 74, 74, 74, 74, 78, 78, 78, 78, 75, 75, 75, 75, 80, 80, 80, 80, 81, 81, 81, 81, 82, 82, 82, 82, 83, 83, 83, 83, 84, 84, 84, 84, 85, 85, 85, 85, 88, 88, 88, 88, 86, 86, 86, 86, 87, 87, 87, 87, 0, 0, 0, 0, 0, 0, 0, 0, 0, 0, 0, 0, 0, 0, 0, 89, 89, 89, 89, 89, 89, 89, 89, 89, 1, 1, 1, 1, 1, 1, 1, 1, 1, 4, 4, 4, 4, 4, 4, 4, 4, 4, 3, 3, 3, 3, 3, 3, 3, 3, 3, 11, 11, 11, 11, 11, 11, 11, 11, 11, 76, 76, 76, 76, 76, 76, 76, 76, 76]\n"
     ]
    }
   ],
   "source": [
    "# Tải dữ liệu từ file CSV\n",
    "dataset = load_dataset(\"csv\", data_files={\"train\": \"dataset.csv\", \"test\": \"dataset.csv\"})\n",
    "\n",
    "# Lấy danh sách các nhãn gốc từ cột 'intent'\n",
    "intent_labels = dataset[\"train\"][\"intent\"]  # Cột 'intent' chứa các nhãn gốc\n",
    "\n",
    "# Khởi tạo LabelEncoder để mã hóa nhãn thành chỉ số\n",
    "label_encoder = LabelEncoder()\n",
    "\n",
    "# Mã hóa các nhãn gốc thành các chỉ số\n",
    "label_encoder.fit(intent_labels)  # Fit trên toàn bộ nhãn từ cột 'intent'\n",
    "\n",
    "# In ra các nhãn gốc và các chỉ số đã mã hóa\n",
    "print(\"Danh sách nhãn gốc:\", label_encoder.classes_)  # In mảng nhãn gốc\n",
    "print(\"Các nhãn đã mã hóa:\", label_encoder.transform(intent_labels))  # In nhãn đã mã hóa thành chỉ số\n",
    "\n",
    "# Mã hóa nhãn intent thành chỉ số và tokenize văn bản\n",
    "def encode_labels_and_tokenize(examples):\n",
    "    # Tokenize văn bản\n",
    "    tokenized = tokenizer(examples[\"text\"], padding=\"max_length\", truncation=True, max_length=13)\n",
    "    \n",
    "    # Mã hóa intent thành nhãn (labels) sử dụng LabelEncoder đã được fit\n",
    "    tokenized[\"labels\"] = label_encoder.transform(examples[\"intent\"])  # Mã hóa nhãn thành chỉ số\n",
    "    \n",
    "    return tokenized\n",
    "\n",
    "# Áp dụng mã hóa nhãn và tokenization cho cả train và test dataset\n",
    "train_dataset = dataset[\"train\"].map(encode_labels_and_tokenize, batched=True)\n",
    "test_dataset = dataset[\"test\"].map(encode_labels_and_tokenize, batched=True)\n",
    "\n",
    "# Kiểm tra dữ liệu sau khi mã hóa nhãn và tokenization\n",
    "  \n",
    "print(train_dataset[\"labels\"])  # Hiển thị mẫu đầu tiên trong train dataset"
   ]
  },
  {
   "cell_type": "markdown",
   "id": "f66f390f",
   "metadata": {},
   "source": [
    "# Finetuning"
   ]
  },
  {
   "cell_type": "markdown",
   "id": "76fe24b8",
   "metadata": {},
   "source": [
    "### Cấu hình tham số huấn luyện"
   ]
  },
  {
   "cell_type": "code",
   "execution_count": 14,
   "id": "263d3ddc",
   "metadata": {},
   "outputs": [],
   "source": [
    "training_args = TrainingArguments(\n",
    "    output_dir=\"./results\",\n",
    "    logging_dir='./logs',\n",
    "    learning_rate=3e-5,\n",
    "    per_device_train_batch_size=8,\n",
    "    per_device_eval_batch_size=8,\n",
    "    num_train_epochs=4,\n",
    "    weight_decay=0.01,\n",
    "    logging_steps=10  \n",
    ")\n",
    "\n",
    "trainer = Trainer(\n",
    "    model=model,\n",
    "    args=training_args,\n",
    "    train_dataset=train_dataset,\n",
    ")\n"
   ]
  },
  {
   "cell_type": "markdown",
   "id": "4c8f4636",
   "metadata": {},
   "source": [
    "### Finetuning"
   ]
  },
  {
   "cell_type": "code",
   "execution_count": 15,
   "id": "3dd79c0e",
   "metadata": {},
   "outputs": [
    {
     "name": "stderr",
     "output_type": "stream",
     "text": [
      "d:\\makerthon\\phoBERT-finetuning\\venv\\Lib\\site-packages\\torch\\utils\\data\\dataloader.py:665: UserWarning: 'pin_memory' argument is set as true but no accelerator is found, then device pinned memory won't be used.\n",
      "  warnings.warn(warn_msg)\n"
     ]
    },
    {
     "data": {
      "text/html": [
       "\n",
       "    <div>\n",
       "      \n",
       "      <progress value='224' max='224' style='width:300px; height:20px; vertical-align: middle;'></progress>\n",
       "      [224/224 03:24, Epoch 4/4]\n",
       "    </div>\n",
       "    <table border=\"1\" class=\"dataframe\">\n",
       "  <thead>\n",
       " <tr style=\"text-align: left;\">\n",
       "      <th>Step</th>\n",
       "      <th>Training Loss</th>\n",
       "    </tr>\n",
       "  </thead>\n",
       "  <tbody>\n",
       "    <tr>\n",
       "      <td>10</td>\n",
       "      <td>4.529900</td>\n",
       "    </tr>\n",
       "    <tr>\n",
       "      <td>20</td>\n",
       "      <td>4.515400</td>\n",
       "    </tr>\n",
       "    <tr>\n",
       "      <td>30</td>\n",
       "      <td>4.485500</td>\n",
       "    </tr>\n",
       "    <tr>\n",
       "      <td>40</td>\n",
       "      <td>4.485000</td>\n",
       "    </tr>\n",
       "    <tr>\n",
       "      <td>50</td>\n",
       "      <td>4.422200</td>\n",
       "    </tr>\n",
       "    <tr>\n",
       "      <td>60</td>\n",
       "      <td>4.383000</td>\n",
       "    </tr>\n",
       "    <tr>\n",
       "      <td>70</td>\n",
       "      <td>4.328600</td>\n",
       "    </tr>\n",
       "    <tr>\n",
       "      <td>80</td>\n",
       "      <td>4.301800</td>\n",
       "    </tr>\n",
       "    <tr>\n",
       "      <td>90</td>\n",
       "      <td>4.209000</td>\n",
       "    </tr>\n",
       "    <tr>\n",
       "      <td>100</td>\n",
       "      <td>4.213600</td>\n",
       "    </tr>\n",
       "    <tr>\n",
       "      <td>110</td>\n",
       "      <td>4.225200</td>\n",
       "    </tr>\n",
       "    <tr>\n",
       "      <td>120</td>\n",
       "      <td>4.150800</td>\n",
       "    </tr>\n",
       "    <tr>\n",
       "      <td>130</td>\n",
       "      <td>4.085000</td>\n",
       "    </tr>\n",
       "    <tr>\n",
       "      <td>140</td>\n",
       "      <td>4.019000</td>\n",
       "    </tr>\n",
       "    <tr>\n",
       "      <td>150</td>\n",
       "      <td>4.051800</td>\n",
       "    </tr>\n",
       "    <tr>\n",
       "      <td>160</td>\n",
       "      <td>4.025900</td>\n",
       "    </tr>\n",
       "    <tr>\n",
       "      <td>170</td>\n",
       "      <td>3.955100</td>\n",
       "    </tr>\n",
       "    <tr>\n",
       "      <td>180</td>\n",
       "      <td>3.984600</td>\n",
       "    </tr>\n",
       "    <tr>\n",
       "      <td>190</td>\n",
       "      <td>3.912700</td>\n",
       "    </tr>\n",
       "    <tr>\n",
       "      <td>200</td>\n",
       "      <td>3.916000</td>\n",
       "    </tr>\n",
       "    <tr>\n",
       "      <td>210</td>\n",
       "      <td>3.891100</td>\n",
       "    </tr>\n",
       "    <tr>\n",
       "      <td>220</td>\n",
       "      <td>3.949200</td>\n",
       "    </tr>\n",
       "  </tbody>\n",
       "</table><p>"
      ],
      "text/plain": [
       "<IPython.core.display.HTML object>"
      ]
     },
     "metadata": {},
     "output_type": "display_data"
    },
    {
     "data": {
      "text/plain": [
       "TrainOutput(global_step=224, training_loss=4.1793670398848395, metrics={'train_runtime': 205.8744, 'train_samples_per_second': 8.646, 'train_steps_per_second': 1.088, 'total_flos': 11901102253560.0, 'train_loss': 4.1793670398848395, 'epoch': 4.0})"
      ]
     },
     "execution_count": 15,
     "metadata": {},
     "output_type": "execute_result"
    }
   ],
   "source": [
    "trainer.train()"
   ]
  },
  {
   "cell_type": "code",
   "execution_count": 16,
   "id": "aef78078",
   "metadata": {},
   "outputs": [],
   "source": [
    "# Lưu mô hình và tokenizer của PhoBERT\n",
    "tokenizer.save_pretrained(\"./results/final_model\")\n",
    "model.save_pretrained(\"./results/final_model\")"
   ]
  },
  {
   "cell_type": "markdown",
   "id": "930edb78",
   "metadata": {},
   "source": [
    "# Test output"
   ]
  },
  {
   "cell_type": "code",
   "execution_count": 18,
   "id": "a8b6d6a6",
   "metadata": {},
   "outputs": [],
   "source": [
    "tokenizer = AutoTokenizer.from_pretrained(\"./results/final_model\")\n",
    "model = AutoModelForSequenceClassification.from_pretrained(\"./results/final_model\")"
   ]
  },
  {
   "cell_type": "code",
   "execution_count": 20,
   "id": "bd155182",
   "metadata": {},
   "outputs": [
    {
     "name": "stdout",
     "output_type": "stream",
     "text": [
      "Predicted label: 4\n"
     ]
    }
   ],
   "source": [
    "# ['clear_history' 'find_api' 'find_history' 'log_in' 'log_out']\n",
    "\n",
    "import torch\n",
    "\n",
    "# Ví dụ văn bản muốn dự đoán\n",
    "text = \"tôi muốn tìm hiểu về bất động sản\"\n",
    "\n",
    "# Tokenize văn bản\n",
    "inputs = tokenizer(text, return_tensors=\"pt\", padding=True, truncation=True, max_length=512)\n",
    "\n",
    "# Dự đoán với mô hình\n",
    "with torch.no_grad():\n",
    "    outputs = model(**inputs)\n",
    "\n",
    "# Lấy kết quả dự đoán (logits)\n",
    "logits = outputs.logits\n",
    "\n",
    "# Lấy nhãn dự đoán (với argmax)\n",
    "predicted_label = logits.argmax(dim=-1).item()\n",
    "\n",
    "print(f\"Predicted label: {predicted_label}\")\n"
   ]
  }
 ],
 "metadata": {
  "kernelspec": {
   "display_name": "Python 3",
   "language": "python",
   "name": "python3"
  },
  "language_info": {
   "codemirror_mode": {
    "name": "ipython",
    "version": 3
   },
   "file_extension": ".py",
   "mimetype": "text/x-python",
   "name": "python",
   "nbconvert_exporter": "python",
   "pygments_lexer": "ipython3",
   "version": "3.13.2"
  }
 },
 "nbformat": 4,
 "nbformat_minor": 5
}
